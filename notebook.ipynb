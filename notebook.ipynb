{
 "cells": [
  {
   "cell_type": "code",
   "id": "initial_id",
   "metadata": {
    "collapsed": true,
    "jupyter": {
     "is_executing": true
    },
    "ExecuteTime": {
     "start_time": "2024-08-03T03:32:36.145217Z"
    }
   },
   "source": [
    "import pandas as pd\n",
    "from sklearn.linear_model import LogisticRegression\n",
    "from sklearn.metrics import accuracy_score, precision_score, recall_score, f1_score\n",
    "from sklearn.preprocessing import StandardScaler\n",
    "from sklearn.impute import SimpleImputer\n",
    "from sklearn.pipeline import Pipeline\n",
    "from sklearn.model_selection import train_test_split, cross_val_score\n",
    "from sklearn.ensemble import RandomForestClassifier, GradientBoostingClassifier\n",
    "from utilities import set_multiple_columns_datatype\n",
    "from sklearn.svm import SVC\n",
    "from sklearn.linear_model import LinearRegression"
   ],
   "outputs": [],
   "execution_count": null
  },
  {
   "metadata": {
    "jupyter": {
     "is_executing": true
    }
   },
   "cell_type": "code",
   "source": [
    "#Import data\n",
    "test = pd.read_csv('data/test.csv')\n",
    "train = pd.read_csv('data/train.csv')"
   ],
   "id": "e833652027f20398",
   "outputs": [],
   "execution_count": null
  },
  {
   "metadata": {
    "jupyter": {
     "is_executing": true
    }
   },
   "cell_type": "code",
   "source": [
    "columns = {\"Pclass\":'category', 'Embarked':'category', \"Sex\":'category'}\n",
    "train = set_multiple_columns_datatype(train, columns)"
   ],
   "id": "d5f52b5422834f71",
   "outputs": [],
   "execution_count": null
  },
  {
   "metadata": {
    "jupyter": {
     "is_executing": true
    }
   },
   "cell_type": "code",
   "source": [
    "#Inspect\n",
    "train.info()"
   ],
   "id": "8324964b27da3327",
   "outputs": [],
   "execution_count": null
  },
  {
   "metadata": {
    "jupyter": {
     "is_executing": true
    }
   },
   "cell_type": "code",
   "source": "train.describe()",
   "id": "4b8ced8329887fee",
   "outputs": [],
   "execution_count": null
  },
  {
   "metadata": {
    "jupyter": {
     "is_executing": true
    }
   },
   "cell_type": "code",
   "source": "train_dummies = pd.get_dummies(train.drop(['Cabin', 'Name', 'Ticket'], axis=1))",
   "id": "96825c2800d358b2",
   "outputs": [],
   "execution_count": null
  },
  {
   "metadata": {
    "jupyter": {
     "is_executing": true
    }
   },
   "cell_type": "code",
   "source": [
    "X = train_dummies.drop(['Survived', 'PassengerId'], axis=1)\n",
    "y = train['Survived']\n",
    "\n",
    "X_train_dummies, X_test_dummies, y_train_dummies, y_test_dummies = train_test_split(X, y, test_size=0.2, random_state=42)"
   ],
   "id": "987fb09211b716ec",
   "outputs": [],
   "execution_count": null
  },
  {
   "metadata": {
    "jupyter": {
     "is_executing": true
    }
   },
   "cell_type": "code",
   "source": [
    "models = {\n",
    "    'Logistic Regression': LogisticRegression(),\n",
    "    'Random Forest': RandomForestClassifier(max_depth=6, min_samples_split=5, n_estimators=335,random_state=42),\n",
    "    'Gradient Boosting': GradientBoostingClassifier(random_state=42),\n",
    "    'SVM': SVC(),\n",
    "    'Linear Regression': LinearRegression()\n",
    "}\n",
    "\n",
    "pipelines = {}\n",
    "for name, model in models.items():\n",
    "    pipelines[name] = Pipeline(steps=[\n",
    "        ('imputer', SimpleImputer(strategy='mean')),\n",
    "        ('scaler', StandardScaler()),\n",
    "        ('classifier', model)\n",
    "    ])"
   ],
   "id": "b96cebd3a581738",
   "outputs": [],
   "execution_count": null
  },
  {
   "metadata": {
    "jupyter": {
     "is_executing": true
    }
   },
   "cell_type": "code",
   "source": [
    "results = {}\n",
    "for name, pipeline in pipelines.items():\n",
    "    scores = cross_val_score(pipeline, X_train_dummies, y_train_dummies, cv=5, scoring='accuracy')\n",
    "    results[name] = scores\n",
    "    print(f'{name}: {scores.mean():.2f} ± {scores.std():.2f}')\n"
   ],
   "id": "51c2de3f90b1c649",
   "outputs": [],
   "execution_count": null
  },
  {
   "metadata": {
    "jupyter": {
     "is_executing": true
    }
   },
   "cell_type": "code",
   "source": [
    "for name, pipeline in pipelines.items():\n",
    "    pipeline.fit(X_train_dummies, y_train_dummies)\n",
    "    y_pred = pipeline.predict(X_test_dummies)\n",
    "    accuracy = accuracy_score(y_test_dummies, y_pred)\n",
    "    precision = precision_score(y_test_dummies, y_pred)\n",
    "    recall = recall_score(y_test_dummies, y_pred)\n",
    "    f1 = f1_score(y_test_dummies, y_pred)\n",
    "    print(f'\\n{name} Performance on Test Set:')\n",
    "    print(f'Accuracy: {accuracy:.2f}')\n",
    "    print(f'Precision: {precision:.2f}')\n",
    "    print(f'Recall: {recall:.2f}')\n",
    "    print(f'F1 Score: {f1:.2f}')\n"
   ],
   "id": "34e82fe1aae49759",
   "outputs": [],
   "execution_count": null
  },
  {
   "metadata": {
    "jupyter": {
     "is_executing": true
    }
   },
   "cell_type": "code",
   "source": [
    "test_new = set_multiple_columns_datatype(test, columns)\n",
    "X_true_test = pd.get_dummies(test_new.drop(['Cabin', 'Name', 'Ticket', 'PassengerId'], axis=1))\n",
    "y_true_pred = pipelines['Random Forest'].predict(X_true_test)\n",
    "y_true_pred"
   ],
   "id": "fdc3ce886e687b25",
   "outputs": [],
   "execution_count": null
  },
  {
   "metadata": {
    "jupyter": {
     "is_executing": true
    }
   },
   "cell_type": "code",
   "source": [
    "test['Survived'] = y_true_pred\n",
    "test\n"
   ],
   "id": "c989af151cbad983",
   "outputs": [],
   "execution_count": null
  },
  {
   "metadata": {
    "jupyter": {
     "is_executing": true
    }
   },
   "cell_type": "code",
   "source": [
    "results = pd.DataFrame()\n",
    "results['Survived'] = test['Survived']\n",
    "results['PassengerId'] = test['PassengerId']\n",
    "results.to_csv('data/results.csv', index=False)"
   ],
   "id": "2fb978ab8069418f",
   "outputs": [],
   "execution_count": null
  },
  {
   "metadata": {
    "jupyter": {
     "is_executing": true
    }
   },
   "cell_type": "code",
   "source": [
    "sol = pd.read_csv('data/results.csv')\n",
    "sol['PassengerId'].unique()"
   ],
   "id": "71cc09329831569b",
   "outputs": [],
   "execution_count": null
  }
 ],
 "metadata": {
  "kernelspec": {
   "display_name": "Python 3",
   "language": "python",
   "name": "python3"
  },
  "language_info": {
   "codemirror_mode": {
    "name": "ipython",
    "version": 2
   },
   "file_extension": ".py",
   "mimetype": "text/x-python",
   "name": "python",
   "nbconvert_exporter": "python",
   "pygments_lexer": "ipython2",
   "version": "2.7.6"
  }
 },
 "nbformat": 4,
 "nbformat_minor": 5
}
